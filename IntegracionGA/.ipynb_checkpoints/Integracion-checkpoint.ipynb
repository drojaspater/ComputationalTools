{
 "cells": [
  {
   "cell_type": "code",
   "execution_count": 1,
   "id": "b6cd220e",
   "metadata": {},
   "outputs": [],
   "source": [
    "##Librerias \n",
    "import numpy as np\n",
    "import matplotlib.pyplot as plt\n",
    "import math\n",
    "import scipy as sp"
   ]
  },
  {
   "cell_type": "code",
   "execution_count": 5,
   "id": "c14847a2",
   "metadata": {},
   "outputs": [
    {
     "data": {
      "text/plain": [
       "array([[0.        , 0.        ],\n",
       "       [0.11      , 0.20957038],\n",
       "       [0.22      , 0.44218515],\n",
       "       [0.33      , 0.65573128],\n",
       "       [0.44      , 0.87299237],\n",
       "       [0.55      , 1.08133683],\n",
       "       [0.66      , 1.28101362],\n",
       "       [0.77      , 1.55836773],\n",
       "       [0.88      , 1.72473922],\n",
       "       [0.99      , 1.9338318 ],\n",
       "       [1.1       , 2.22924501],\n",
       "       [1.21666667, 2.19410295],\n",
       "       [1.33333333, 2.22785879],\n",
       "       [1.45      , 2.19854377],\n",
       "       [1.56666667, 2.2520631 ],\n",
       "       [1.68333333, 2.2581766 ],\n",
       "       [1.8       , 2.25699586],\n",
       "       [1.9       , 1.9151173 ],\n",
       "       [2.        , 1.66995246],\n",
       "       [2.1       , 1.3671418 ],\n",
       "       [2.2       , 1.10986788],\n",
       "       [2.3       , 0.8213284 ],\n",
       "       [2.4       , 0.54823411],\n",
       "       [2.5       , 0.27934386],\n",
       "       [2.6       , 0.        ]])"
      ]
     },
     "execution_count": 5,
     "metadata": {},
     "output_type": "execute_result"
    }
   ],
   "source": [
    "##Exportación de los datos \n",
    "darray = np.genfromtxt('accel.txt',delimiter=\" \",missing_values=np.nan)\n",
    "darray"
   ]
  },
  {
   "cell_type": "code",
   "execution_count": 7,
   "id": "b289ad75",
   "metadata": {},
   "outputs": [
    {
     "data": {
      "text/plain": [
       "array([0.        , 0.20957038, 0.44218515, 0.65573128, 0.87299237,\n",
       "       1.08133683, 1.28101362, 1.55836773, 1.72473922, 1.9338318 ,\n",
       "       2.22924501, 2.19410295, 2.22785879, 2.19854377, 2.2520631 ,\n",
       "       2.2581766 , 2.25699586, 1.9151173 , 1.66995246, 1.3671418 ,\n",
       "       1.10986788, 0.8213284 , 0.54823411, 0.27934386, 0.        ])"
      ]
     },
     "execution_count": 7,
     "metadata": {},
     "output_type": "execute_result"
    }
   ],
   "source": [
    "t = darray[:,0]\n",
    "a = darray[:,1]\n",
    "a"
   ]
  },
  {
   "cell_type": "code",
   "execution_count": null,
   "id": "c5339457",
   "metadata": {},
   "outputs": [],
   "source": []
  }
 ],
 "metadata": {
  "kernelspec": {
   "display_name": "Python 3 (ipykernel)",
   "language": "python",
   "name": "python3"
  },
  "language_info": {
   "codemirror_mode": {
    "name": "ipython",
    "version": 3
   },
   "file_extension": ".py",
   "mimetype": "text/x-python",
   "name": "python",
   "nbconvert_exporter": "python",
   "pygments_lexer": "ipython3",
   "version": "3.9.13"
  }
 },
 "nbformat": 4,
 "nbformat_minor": 5
}
