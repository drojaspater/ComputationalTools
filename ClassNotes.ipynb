{
 "cells": [
  {
   "cell_type": "markdown",
   "id": "9d708975",
   "metadata": {},
   "source": [
    "### Feb 13 - 2023\n",
    "# Repaso y cosas nuevas de python\n",
    "Para empezar, es importante resaltar la manera en la que se crean variables en python. Cuando creamos una variable el lenguaje lo caracteriza de manera que crea el tipo de variable dependindo de como dimos la información, es decir, sin decirlo explicitamente,"
   ]
  },
  {
   "cell_type": "code",
   "execution_count": 2,
   "id": "cfbb2be7",
   "metadata": {},
   "outputs": [
    {
     "name": "stdout",
     "output_type": "stream",
     "text": [
      "la variable x= 5 es de tipo <class 'int'>\n",
      "la variable y= 5.1 es de tipo <class 'float'>\n"
     ]
    }
   ],
   "source": [
    "x = 5\n",
    "y = 5.1\n",
    "print('la variable x=',x,'es de tipo',type(x))\n",
    "print('la variable y=',y,'es de tipo',type(y))"
   ]
  },
  {
   "cell_type": "markdown",
   "id": "b0c2d740",
   "metadata": {},
   "source": [
    "esto es importante de ver, ya que esto puede influir en la eficiencia de nuestro codigo o en la manipulación de variables que estamos realizando.\n",
    "Por otra parte, una variable no solo se distingue por su nombre si no tambien por donde se encuentra. Es por esto que debemos tener cuidado de las librerias u herramientas de computo que utilizamos con el fin de optimizar memoria. Es por esto que realizar manipulación de arreglos con numpy o math es diferente, ya que cada uno maneja los arreglos diferentes repercutiendo en la memoria cache, en el caso de numpy toda la info se encuentra en la cache y en el caso de math debemos sacar informaciónd de la Ram, lo que puede ser mucho más demorado."
   ]
  },
  {
   "cell_type": "markdown",
   "id": "6758c802",
   "metadata": {},
   "source": [
    "Por otra parte, es posible ver la manera en que se identifican las variables utilizando la función `id()`, devolviendo la dirección de memoria en la que se encuentra la variable, como sigue:"
   ]
  },
  {
   "cell_type": "code",
   "execution_count": 5,
   "id": "1772dd2a",
   "metadata": {},
   "outputs": [
    {
     "name": "stdout",
     "output_type": "stream",
     "text": [
      "el id o identificador de la variable x es 139739776797104\n"
     ]
    }
   ],
   "source": [
    "print('el id o identificador de la variable x es',id(x))"
   ]
  },
  {
   "cell_type": "code",
   "execution_count": 4,
   "id": "0af8ed60",
   "metadata": {},
   "outputs": [
    {
     "name": "stdout",
     "output_type": "stream",
     "text": [
      "Help on built-in function id in module builtins:\n",
      "\n",
      "id(obj, /)\n",
      "    Return the identity of an object.\n",
      "    \n",
      "    This is guaranteed to be unique among simultaneously existing objects.\n",
      "    (CPython uses the object's memory address.)\n",
      "\n"
     ]
    }
   ],
   "source": [
    "# Qué hace la función \n",
    "help(id) "
   ]
  },
  {
   "cell_type": "code",
   "execution_count": 9,
   "id": "b99be75d",
   "metadata": {},
   "outputs": [
    {
     "name": "stdout",
     "output_type": "stream",
     "text": [
      "7637920\n",
      "<class 'bool'>\n"
     ]
    }
   ],
   "source": [
    "print(id(x == y))   #Dirección de memoria\n",
    "print(type(x == y)) #Tipo de variable"
   ]
  },
  {
   "cell_type": "markdown",
   "id": "39e8f92e",
   "metadata": {},
   "source": [
    "Ahora, la forma en que se muestran cosas en la pantalla se pueden relizar de manera mas sencilla utilizando f-string como sigue"
   ]
  },
  {
   "cell_type": "code",
   "execution_count": 10,
   "id": "bf03e2a3",
   "metadata": {},
   "outputs": [
    {
     "name": "stdout",
     "output_type": "stream",
     "text": [
      "Please write something :\thello word\n",
      "You have written : hello word\n",
      "You have written : hello word\n"
     ]
    }
   ],
   "source": [
    "var = input(\"Please write something :\\t\") #nos pide un input y lo llama var\n",
    "print(\"You have written : \" + var)        #una forma de imprimir   \n",
    "print(f\"You have written : {var}\")        #Forma de imprimir utilizando f-string que pude ser más eficiente"
   ]
  },
  {
   "cell_type": "code",
   "execution_count": 11,
   "id": "5be75818",
   "metadata": {},
   "outputs": [
    {
     "name": "stdout",
     "output_type": "stream",
     "text": [
      "x = 0005 \t y = 5.1 \n",
      " y=5.0999999999999996e+00\n",
      "\n",
      "x = 0005 \t y = 5.1 \n",
      " y=5.0999999999999996e+00\n"
     ]
    }
   ],
   "source": [
    "x1 = 5\n",
    "y1 = 2.34\n",
    "print(\"x = %04d \\t y = %.1f \\n y=%20.16e\\n\"%(x, y, y)) #Sintaxis complicada\n",
    "print(f\"x = {x:04d} \\t y = {y:.1f} \\n y={y:20.16e}\")   #Aqui imprimo utilizando f-strign y resulta más eficiente "
   ]
  },
  {
   "cell_type": "markdown",
   "id": "bf74335f",
   "metadata": {},
   "source": [
    "Como ejemplo de como utilizar f-string, esta el siguiente, donde se evidencia que incluso se pueden hacer operaciones dentro del string"
   ]
  },
  {
   "cell_type": "code",
   "execution_count": 17,
   "id": "2b289e97",
   "metadata": {},
   "outputs": [
    {
     "name": "stdout",
     "output_type": "stream",
     "text": [
      "x = 5.0 y = -4.64\n",
      " x+y = 0000.36000\n",
      " x+y =    0.36000\n"
     ]
    }
   ],
   "source": [
    "x = 5.0\n",
    "y = -4.64\n",
    "###.5f nos dice 5 decimales y es flotante\n",
    "###010 nos da 10 espacios repletos de ceros\n",
    "###10 nos da 10 espacios sin especificar con que lo rellena\n",
    "###\\n nos da un espacio\n",
    "print(f\"x = {x} y = {y}\\n x+y = {x+y:010.5f}\\n x+y = {x+y:10.5f}\") "
   ]
  },
  {
   "cell_type": "markdown",
   "id": "1e03e2eb",
   "metadata": {},
   "source": [
    "### abril 14 - 2023\n",
    "# Metodos Runge-Kutta para ecuaciones acopladas y de segundo orden\n",
    "Vamos a resolver el siguiente problema de una ecuación diferencial ordinaria \n",
    "$$ \\frac{dy}{dx}=\\left(1+2x\\right)\\sqrt{y}  $$\n",
    "donde $y\\left(0\\right)=1$. Resolveremos esta ecuación por medio de:\n",
    "* Una solución analitica.\n",
    "* Método de Euler $n=0.01$\n",
    "* Método del punto medio $h=0.01$\n",
    "* Método del RK4 $h=0.01$\n",
    "y veamos que esto nos da una buena aproximación. "
   ]
  },
  {
   "cell_type": "code",
   "execution_count": 1,
   "id": "aeb2c59c",
   "metadata": {},
   "outputs": [],
   "source": [
    "#Libreriras \n",
    "import numpy as np \n",
    "import matplotlib.pyplot as plt"
   ]
  },
  {
   "cell_type": "code",
   "execution_count": 20,
   "id": "320d8f46",
   "metadata": {},
   "outputs": [],
   "source": [
    "#Solución analitica\n",
    "h = 0.01\n",
    "N = int(1/h)\n",
    "X = np.linspace(0,1,N)\n",
    "Y_analitic = (2+ X + X**2)**2 /4\n"
   ]
  },
  {
   "cell_type": "code",
   "execution_count": 11,
   "id": "e8629ab8",
   "metadata": {},
   "outputs": [],
   "source": [
    "#Función de la ecuación diferencial \n",
    "def f(x,y):\n",
    "    return (1+2*x)*(y**(1/2))"
   ]
  },
  {
   "cell_type": "code",
   "execution_count": 21,
   "id": "80e5bb70",
   "metadata": {},
   "outputs": [],
   "source": [
    "#Metodo de Euler\n",
    "Y_euler = np.zeros(N)\n",
    "Y_euler[0] = 1\n",
    "x = 0\n",
    "for i in range(0,N-1):\n",
    "    x += h\n",
    "    Y_euler[i+1] = Y_euler[i] + h*f(x,Y_euler[i])\n",
    "    "
   ]
  },
  {
   "cell_type": "code",
   "execution_count": null,
   "id": "00902464",
   "metadata": {},
   "outputs": [],
   "source": [
    "#Metodo de "
   ]
  },
  {
   "cell_type": "code",
   "execution_count": 22,
   "id": "34bc59ad",
   "metadata": {},
   "outputs": [
    {
     "data": {
      "image/png": "[encoded data removed]",
      "text/plain": [
       "<Figure size 640x480 with 1 Axes>"
      ]
     },
     "metadata": {},
     "output_type": "display_data"
    }
   ],
   "source": [
    "plt.plot(X,Y_analitic,label='Solución analitica')\n",
    "plt.plot(X,Y_euler,label='Solución por metodo de Euler')\n",
    "plt.xlabel(r'$x$')\n",
    "plt.ylabel(r'$y\\left(x\\right)$')\n",
    "plt.legend()\n",
    "plt.show()"
   ]
  },
  {
   "cell_type": "code",
   "execution_count": null,
   "id": "ee3f4d79",
   "metadata": {},
   "outputs": [],
   "source": []
  }
 ],
 "metadata": {
  "kernelspec": {
   "display_name": "Python 3 (ipykernel)",
   "language": "python",
   "name": "python3"
  },
  "language_info": {
   "codemirror_mode": {
    "name": "ipython",
    "version": 3
   },
   "file_extension": ".py",
   "mimetype": "text/x-python",
   "name": "python",
   "nbconvert_exporter": "python",
   "pygments_lexer": "ipython3",
   "version": "3.9.13"
  }
 },
 "nbformat": 4,
 "nbformat_minor": 5
}
